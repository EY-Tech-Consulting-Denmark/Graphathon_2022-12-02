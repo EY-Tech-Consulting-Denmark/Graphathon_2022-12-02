{
 "cells": [
  {
   "cell_type": "markdown",
   "id": "cdbbe320",
   "metadata": {},
   "source": [
    "Notebook Creating a Graph using NetworkX"
   ]
  },
  {
   "cell_type": "code",
   "execution_count": 1,
   "id": "29be9b2e",
   "metadata": {},
   "outputs": [],
   "source": [
    "import networkx as nx\n",
    "import pandas as pd\n",
    "import numpy as np"
   ]
  },
  {
   "cell_type": "code",
   "execution_count": 2,
   "id": "1129d7ce",
   "metadata": {},
   "outputs": [],
   "source": [
    "from IPython.core.interactiveshell import InteractiveShell\n",
    "InteractiveShell.ast_node_interactivity = \"all\""
   ]
  },
  {
   "cell_type": "markdown",
   "id": "429b4f77",
   "metadata": {},
   "source": [
    "Loading the preprocessed data"
   ]
  },
  {
   "cell_type": "code",
   "execution_count": 3,
   "id": "0ab4aa6c",
   "metadata": {},
   "outputs": [],
   "source": [
    "data = pd.read_csv(\"https://raw.githubusercontent.com/EY-Tech-Consulting-Denmark/Graphathon-ATP/main/Data/clean_data/data.csv\")"
   ]
  },
  {
   "cell_type": "code",
   "execution_count": 4,
   "id": "0b50c73b",
   "metadata": {},
   "outputs": [
    {
     "data": {
      "text/html": [
       "<div>\n",
       "<style scoped>\n",
       "    .dataframe tbody tr th:only-of-type {\n",
       "        vertical-align: middle;\n",
       "    }\n",
       "\n",
       "    .dataframe tbody tr th {\n",
       "        vertical-align: top;\n",
       "    }\n",
       "\n",
       "    .dataframe thead th {\n",
       "        text-align: right;\n",
       "    }\n",
       "</style>\n",
       "<table border=\"1\" class=\"dataframe\">\n",
       "  <thead>\n",
       "    <tr style=\"text-align: right;\">\n",
       "      <th></th>\n",
       "      <th>BeneID</th>\n",
       "      <th>DOB</th>\n",
       "      <th>DOD</th>\n",
       "      <th>Gender</th>\n",
       "      <th>Race</th>\n",
       "      <th>RenalDiseaseIndicator</th>\n",
       "      <th>State</th>\n",
       "      <th>County</th>\n",
       "      <th>NoOfMonths_PartACov</th>\n",
       "      <th>NoOfMonths_PartBCov</th>\n",
       "      <th>...</th>\n",
       "      <th>ClmProcedureCode_5</th>\n",
       "      <th>PotentialFraud</th>\n",
       "      <th>Age</th>\n",
       "      <th>IsDead</th>\n",
       "      <th>DaysAdmitted</th>\n",
       "      <th>DaysClaimLasted</th>\n",
       "      <th>ClaimEndAfterDischarged</th>\n",
       "      <th>TotalDiagnosis</th>\n",
       "      <th>TotalProcedures</th>\n",
       "      <th>TotalPhysicians</th>\n",
       "    </tr>\n",
       "  </thead>\n",
       "  <tbody>\n",
       "    <tr>\n",
       "      <th>0</th>\n",
       "      <td>BENE11001</td>\n",
       "      <td>1943-01-01</td>\n",
       "      <td>NaN</td>\n",
       "      <td>1</td>\n",
       "      <td>1</td>\n",
       "      <td>0</td>\n",
       "      <td>39</td>\n",
       "      <td>230</td>\n",
       "      <td>12</td>\n",
       "      <td>12</td>\n",
       "      <td>...</td>\n",
       "      <td>NaN</td>\n",
       "      <td>1</td>\n",
       "      <td>66.0</td>\n",
       "      <td>0</td>\n",
       "      <td>7</td>\n",
       "      <td>7</td>\n",
       "      <td>0</td>\n",
       "      <td>9</td>\n",
       "      <td>0</td>\n",
       "      <td>1</td>\n",
       "    </tr>\n",
       "    <tr>\n",
       "      <th>1</th>\n",
       "      <td>BENE17521</td>\n",
       "      <td>1913-12-01</td>\n",
       "      <td>NaN</td>\n",
       "      <td>2</td>\n",
       "      <td>1</td>\n",
       "      <td>0</td>\n",
       "      <td>39</td>\n",
       "      <td>230</td>\n",
       "      <td>12</td>\n",
       "      <td>12</td>\n",
       "      <td>...</td>\n",
       "      <td>NaN</td>\n",
       "      <td>1</td>\n",
       "      <td>95.0</td>\n",
       "      <td>0</td>\n",
       "      <td>13</td>\n",
       "      <td>13</td>\n",
       "      <td>0</td>\n",
       "      <td>9</td>\n",
       "      <td>2</td>\n",
       "      <td>3</td>\n",
       "    </tr>\n",
       "    <tr>\n",
       "      <th>2</th>\n",
       "      <td>BENE21718</td>\n",
       "      <td>1922-10-01</td>\n",
       "      <td>NaN</td>\n",
       "      <td>1</td>\n",
       "      <td>1</td>\n",
       "      <td>0</td>\n",
       "      <td>39</td>\n",
       "      <td>600</td>\n",
       "      <td>12</td>\n",
       "      <td>12</td>\n",
       "      <td>...</td>\n",
       "      <td>NaN</td>\n",
       "      <td>1</td>\n",
       "      <td>87.0</td>\n",
       "      <td>0</td>\n",
       "      <td>19</td>\n",
       "      <td>19</td>\n",
       "      <td>0</td>\n",
       "      <td>9</td>\n",
       "      <td>1</td>\n",
       "      <td>2</td>\n",
       "    </tr>\n",
       "    <tr>\n",
       "      <th>3</th>\n",
       "      <td>BENE22934</td>\n",
       "      <td>1930-07-01</td>\n",
       "      <td>NaN</td>\n",
       "      <td>2</td>\n",
       "      <td>1</td>\n",
       "      <td>0</td>\n",
       "      <td>39</td>\n",
       "      <td>280</td>\n",
       "      <td>12</td>\n",
       "      <td>12</td>\n",
       "      <td>...</td>\n",
       "      <td>NaN</td>\n",
       "      <td>1</td>\n",
       "      <td>79.0</td>\n",
       "      <td>0</td>\n",
       "      <td>5</td>\n",
       "      <td>5</td>\n",
       "      <td>0</td>\n",
       "      <td>7</td>\n",
       "      <td>1</td>\n",
       "      <td>3</td>\n",
       "    </tr>\n",
       "    <tr>\n",
       "      <th>4</th>\n",
       "      <td>BENE24402</td>\n",
       "      <td>1925-09-01</td>\n",
       "      <td>NaN</td>\n",
       "      <td>2</td>\n",
       "      <td>2</td>\n",
       "      <td>0</td>\n",
       "      <td>39</td>\n",
       "      <td>510</td>\n",
       "      <td>12</td>\n",
       "      <td>12</td>\n",
       "      <td>...</td>\n",
       "      <td>NaN</td>\n",
       "      <td>1</td>\n",
       "      <td>83.0</td>\n",
       "      <td>0</td>\n",
       "      <td>5</td>\n",
       "      <td>5</td>\n",
       "      <td>0</td>\n",
       "      <td>1</td>\n",
       "      <td>1</td>\n",
       "      <td>2</td>\n",
       "    </tr>\n",
       "  </tbody>\n",
       "</table>\n",
       "<p>5 rows × 62 columns</p>\n",
       "</div>"
      ],
      "text/plain": [
       "      BeneID         DOB  DOD  Gender  Race  RenalDiseaseIndicator  State  \\\n",
       "0  BENE11001  1943-01-01  NaN       1     1                      0     39   \n",
       "1  BENE17521  1913-12-01  NaN       2     1                      0     39   \n",
       "2  BENE21718  1922-10-01  NaN       1     1                      0     39   \n",
       "3  BENE22934  1930-07-01  NaN       2     1                      0     39   \n",
       "4  BENE24402  1925-09-01  NaN       2     2                      0     39   \n",
       "\n",
       "   County  NoOfMonths_PartACov  NoOfMonths_PartBCov  ...  ClmProcedureCode_5  \\\n",
       "0     230                   12                   12  ...                 NaN   \n",
       "1     230                   12                   12  ...                 NaN   \n",
       "2     600                   12                   12  ...                 NaN   \n",
       "3     280                   12                   12  ...                 NaN   \n",
       "4     510                   12                   12  ...                 NaN   \n",
       "\n",
       "   PotentialFraud   Age  IsDead  DaysAdmitted  DaysClaimLasted  \\\n",
       "0               1  66.0       0             7                7   \n",
       "1               1  95.0       0            13               13   \n",
       "2               1  87.0       0            19               19   \n",
       "3               1  79.0       0             5                5   \n",
       "4               1  83.0       0             5                5   \n",
       "\n",
       "   ClaimEndAfterDischarged  TotalDiagnosis  TotalProcedures  TotalPhysicians  \n",
       "0                        0               9                0                1  \n",
       "1                        0               9                2                3  \n",
       "2                        0               9                1                2  \n",
       "3                        0               7                1                3  \n",
       "4                        0               1                1                2  \n",
       "\n",
       "[5 rows x 62 columns]"
      ]
     },
     "execution_count": 4,
     "metadata": {},
     "output_type": "execute_result"
    }
   ],
   "source": [
    "data.head()"
   ]
  },
  {
   "cell_type": "code",
   "execution_count": 99,
   "id": "dedb4b95",
   "metadata": {},
   "outputs": [
    {
     "data": {
      "text/plain": [
       "array([nan, '2009-09-01', '2009-03-01', '2009-11-01', '2009-10-01',\n",
       "       '2009-08-01', '2009-07-01', '2009-12-01', '2009-04-01',\n",
       "       '2009-06-01', '2009-05-01', '2009-02-01'], dtype=object)"
      ]
     },
     "execution_count": 99,
     "metadata": {},
     "output_type": "execute_result"
    }
   ],
   "source": [
    "data['DOD'].unique()"
   ]
  },
  {
   "cell_type": "code",
   "execution_count": 5,
   "id": "e010db89",
   "metadata": {
    "scrolled": true
   },
   "outputs": [
    {
     "data": {
      "text/plain": [
       "Index(['BeneID', 'DOB', 'DOD', 'Gender', 'Race', 'RenalDiseaseIndicator',\n",
       "       'State', 'County', 'NoOfMonths_PartACov', 'NoOfMonths_PartBCov',\n",
       "       'ChronicCond_Alzheimer', 'ChronicCond_Heartfailure',\n",
       "       'ChronicCond_KidneyDisease', 'ChronicCond_Cancer',\n",
       "       'ChronicCond_ObstrPulmonary', 'ChronicCond_Depression',\n",
       "       'ChronicCond_Diabetes', 'ChronicCond_IschemicHeart',\n",
       "       'ChronicCond_Osteoporasis', 'ChronicCond_rheumatoidarthritis',\n",
       "       'ChronicCond_stroke', 'IPAnnualReimbursementAmt',\n",
       "       'IPAnnualDeductibleAmt', 'OPAnnualReimbursementAmt',\n",
       "       'OPAnnualDeductibleAmt', 'ClaimID', 'ClaimStartDt', 'ClaimEndDt',\n",
       "       'Provider', 'InscClaimAmtReimbursed', 'AttendingPhysician',\n",
       "       'OperatingPhysician', 'OtherPhysician', 'AdmissionDt',\n",
       "       'ClmAdmitDiagnosisCode', 'DeductibleAmtPaid', 'DischargeDt',\n",
       "       'DiagnosisGroupCode', 'ClmDiagnosisCode_1', 'ClmDiagnosisCode_2',\n",
       "       'ClmDiagnosisCode_3', 'ClmDiagnosisCode_4', 'ClmDiagnosisCode_5',\n",
       "       'ClmDiagnosisCode_6', 'ClmDiagnosisCode_7', 'ClmDiagnosisCode_8',\n",
       "       'ClmDiagnosisCode_9', 'ClmDiagnosisCode_10', 'ClmProcedureCode_1',\n",
       "       'ClmProcedureCode_2', 'ClmProcedureCode_3', 'ClmProcedureCode_4',\n",
       "       'ClmProcedureCode_5', 'PotentialFraud', 'Age', 'IsDead', 'DaysAdmitted',\n",
       "       'DaysClaimLasted', 'ClaimEndAfterDischarged', 'TotalDiagnosis',\n",
       "       'TotalProcedures', 'TotalPhysicians'],\n",
       "      dtype='object')"
      ]
     },
     "execution_count": 5,
     "metadata": {},
     "output_type": "execute_result"
    }
   ],
   "source": [
    "data.columns"
   ]
  },
  {
   "cell_type": "markdown",
   "id": "cac01626",
   "metadata": {},
   "source": [
    "Creating the Graph"
   ]
  },
  {
   "cell_type": "code",
   "execution_count": 61,
   "id": "4a0542c9",
   "metadata": {},
   "outputs": [],
   "source": [
    "conditionCode = ['RenalDiseaseIndicator',\n",
    "                 'ChronicCond_Alzheimer', 'ChronicCond_Heartfailure',\n",
    "                 'ChronicCond_KidneyDisease', 'ChronicCond_Cancer',\n",
    "                 'ChronicCond_ObstrPulmonary', 'ChronicCond_Depression',\n",
    "                 'ChronicCond_Diabetes', 'ChronicCond_IschemicHeart',\n",
    "                 'ChronicCond_Osteoporasis', 'ChronicCond_rheumatoidarthritis',\n",
    "                 'ChronicCond_stroke']\n",
    "\n",
    "procedureCode = ['ClmProcedureCode_1',\n",
    "                 'ClmProcedureCode_2',\n",
    "                 'ClmProcedureCode_3',\n",
    "                 'ClmProcedureCode_4',\n",
    "                 'ClmProcedureCode_5']\n",
    "\n",
    "physicianCode = ['AttendingPhysician',\n",
    "               'OperatingPhysician',\n",
    "               'OtherPhysician']"
   ]
  },
  {
   "cell_type": "code",
   "execution_count": 102,
   "id": "35d46b1d",
   "metadata": {},
   "outputs": [],
   "source": [
    "#procedureID =  [*set([val for c in procedureCode for val in data[c].dropna().unique().tolist()])]\n",
    "#conditionID = [*set([val for c in conditionCode for val in data[c].dropna().unique().tolist()])]\n",
    "#physicianID = [*set([val for c in physicianCode for val in data[c].dropna().unique().tolist()])]\n",
    "procedureID =  [*set([val for c in procedureCode for val in data[c].tolist()])]\n",
    "conditionID = [*set([val for c in conditionCode for val in data[c].tolist()])]\n",
    "physicianID = [*set([val for c in physicianCode for val in data[c].tolist()])]"
   ]
  },
  {
   "cell_type": "markdown",
   "id": "ee89fd96",
   "metadata": {},
   "source": [
    "Beneficiary: {\n",
    "              \"gender\":\"Gender\", \n",
    "              \"race\":\"Race\",\n",
    "              \"dob\":\"DOB\",\n",
    "              \"county\":\"County\",\n",
    "              \"state\":\"State\",\n",
    "              \"id\":\"BeneID\",\n",
    "              \"age\":\"Age\",\n",
    "              \"dod\":\"DOD\"\n",
    "              }\n",
    "              \n",
    "Claim :       {\n",
    "              \"reimbursedAmt\":\"InscClaimAmtReimbursed\", \n",
    "              \"claimEndAfterDischarged\":\"ClaimEndAfterDischarged\",\n",
    "              \"admissionDate\":\"AdmissionDt\",\n",
    "              \"daysClaimLasted\":\"DaysClaimLasted\",\n",
    "              \"ClaimEndDt\":\"endDate\",\n",
    "              \"dischargeDate\":\"DischargeDt\",\n",
    "              \"deductibleAmt\":\"DeductibleAmtPaid\",\n",
    "              \"ClaimID\":\"id\",\n",
    "              \"ClaimStartDt\":\"startDate\",\n",
    "              \"daysAdmitted\":\"DaysAdmitted\"\n",
    "              }\n",
    "         \n",
    "Provider: {\n",
    "              \"fraud\":\"PotentialFraud\",\n",
    "              \"id\": \"Provider\"\n",
    "          }\n",
    "         \n",
    "Condition: {\n",
    "               \"id\":\"conditionIdID\"\n",
    "           }\n",
    "        \n",
    "Diagnosis: {\n",
    "            \"id\":\"ClmAdmitDiagnosisCode\"\n",
    "           }\n",
    "           \n",
    "Physician: {\"id\":\"physicianID\"\n",
    "           }\n",
    "          \n",
    "Procedure: {\"id\":\"procedureID\"\n",
    "           }      "
   ]
  },
  {
   "cell_type": "code",
   "execution_count": null,
   "id": "3c9f5159",
   "metadata": {},
   "outputs": [],
   "source": [
    "list(data[\"Gender\"].values)"
   ]
  },
  {
   "cell_type": "code",
   "execution_count": null,
   "id": "0dcc807c",
   "metadata": {},
   "outputs": [],
   "source": [
    "attrs = {'Beneficiary': {\n",
    "              \"gender\":list(data[\"Gender\"]), \n",
    "              \"race\":list(data[\"Race\"]),\n",
    "              \"dob\":list(data[\"DOB\"]),\n",
    "              \"county\":list(data[\"County\"]),\n",
    "              \"dod\":list(data[\"DOD\"])\n",
    "              \"state\":list(data[\"State\"]),\n",
    "              \"id\":list(data[\"BeneID\"]),\n",
    "              \"age\":list(data[\"Age\"])\n",
    "              },\n",
    "              \n",
    "        'Claim' :       {\n",
    "              \"reimbursedAmt\":list(data[\"InscClaimAmtReimbursed\"]), \n",
    "              \"claimEndAfterDischarged\":list(data[\"ClaimEndAfterDischarged\"]),\n",
    "              \"admissionDate\":list(data[\"AdmissionDt\"]),\n",
    "              \"daysClaimLasted\":list(data[\"DaysClaimLasted\"]),\n",
    "              \"endDate\":list(data[\"ClaimEndDt\"]),\n",
    "              \"dischargeDate\":list(data[\"DischargeDt\"]),\n",
    "              \"deductibleAmt\":list(data[\"DeductibleAmtPaid\"]),\n",
    "              \"id\":list(data[\"ClaimID\"]),\n",
    "              \"startDate\":list(data[\"ClaimStartDt\"]),\n",
    "              \"daysAdmitted\":list(data[\"DaysAdmitted\"])\n",
    "              },\n",
    "         \n",
    "        'Provider':     {\n",
    "              \"fraud\":list(data[\"PotentialFraud\"]),\n",
    "              \"id\": list(data[\"Provider\"])\n",
    "              },\n",
    "         \n",
    "        'Condition':    {\n",
    "               \"id\":conditionID\n",
    "              },\n",
    "\n",
    "        'Diagnosis': {\n",
    "               \"id\":list(data[\"ClmAdmitDiagnosisCode\"])\n",
    "              },\n",
    "           \n",
    "        'Physician': {\"id\":physicianID\n",
    "           },\n",
    "          \n",
    "        'Procedure': {\"id\":procedureID\n",
    "           }\n",
    "        }"
   ]
  },
  {
   "cell_type": "code",
   "execution_count": null,
   "id": "ed93a528",
   "metadata": {},
   "outputs": [],
   "source": [
    "G = nx.MultiDiGraph()"
   ]
  },
  {
   "cell_type": "code",
   "execution_count": null,
   "id": "e2c74d24",
   "metadata": {},
   "outputs": [],
   "source": [
    "nodes = ['Beneficiary','Claim','Provider','Condition','Diagnosis','Procedure','Physician']"
   ]
  },
  {
   "cell_type": "code",
   "execution_count": null,
   "id": "3fa6515e",
   "metadata": {},
   "outputs": [],
   "source": [
    "G.add_nodes_from(nodes)"
   ]
  },
  {
   "cell_type": "code",
   "execution_count": null,
   "id": "55b3e725",
   "metadata": {},
   "outputs": [],
   "source": [
    "G.nodes()"
   ]
  },
  {
   "cell_type": "code",
   "execution_count": null,
   "id": "da70cd4e",
   "metadata": {},
   "outputs": [],
   "source": [
    "nx.set_node_attributes(G, attrs)"
   ]
  }
 ],
 "metadata": {
  "kernelspec": {
   "display_name": "Python 3 (ipykernel)",
   "language": "python",
   "name": "python3"
  },
  "language_info": {
   "codemirror_mode": {
    "name": "ipython",
    "version": 3
   },
   "file_extension": ".py",
   "mimetype": "text/x-python",
   "name": "python",
   "nbconvert_exporter": "python",
   "pygments_lexer": "ipython3",
   "version": "3.9.13"
  }
 },
 "nbformat": 4,
 "nbformat_minor": 5
}
